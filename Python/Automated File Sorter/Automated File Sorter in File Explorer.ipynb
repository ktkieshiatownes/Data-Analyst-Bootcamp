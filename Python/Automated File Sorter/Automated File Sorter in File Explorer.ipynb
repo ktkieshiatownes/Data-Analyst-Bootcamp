{
 "cells": [
  {
   "cell_type": "markdown",
   "id": "4aed772b-1819-4887-88b9-ab2aeb3fb2ca",
   "metadata": {},
   "source": [
    "# Automated File Sorter in File Explorer using Python"
   ]
  },
  {
   "cell_type": "code",
   "execution_count": null,
   "id": "3936807f-e42e-4260-a290-194f595b81fe",
   "metadata": {},
   "outputs": [],
   "source": []
  },
  {
   "cell_type": "code",
   "execution_count": null,
   "id": "4a8aa435-9b59-4162-833b-89b24fe847d0",
   "metadata": {},
   "outputs": [],
   "source": [
    "import os, shutil"
   ]
  },
  {
   "cell_type": "code",
   "execution_count": null,
   "id": "54cea33a-1194-4cae-9320-ea10ffcf5f63",
   "metadata": {},
   "outputs": [],
   "source": [
    "path = r\"C:/Users/kiesh/OneDrive/Desktop/YouTube_Data Analyst Bootcamp/Analyst Python/Automated File Sorter in File Explorer/\""
   ]
  },
  {
   "cell_type": "code",
   "execution_count": null,
   "id": "5f0c4491-bb33-477f-b99c-7ad1ef514792",
   "metadata": {},
   "outputs": [],
   "source": [
    "os.listdir(path)"
   ]
  },
  {
   "cell_type": "code",
   "execution_count": null,
   "id": "4a49db4e-4f49-4e89-9043-63e945497dbc",
   "metadata": {},
   "outputs": [],
   "source": [
    "os.path.exists(path + 'csv files')"
   ]
  },
  {
   "cell_type": "code",
   "execution_count": null,
   "id": "fc1a7676-3cf8-4f54-9c02-9526984bf7ae",
   "metadata": {},
   "outputs": [],
   "source": [
    "folder_names = ['csv files', 'image files', 'text files']\n",
    "\n",
    "for loop in range(0,3):\n",
    "    if not os.path.exists(path + folder_names[loop]):\n",
    "       #print(path + folder_names[loop])\n",
    "        os.makedirs((path + folder_names[loop]))\n",
    "        \n",
    "for file in file_name:\n",
    "    if \".csv\" in file and not os.path.exists(path + \"csv files/\" + file):\n",
    "        shutil.move(path + file, path + \"csv files/\" + file)\n",
    "    elif \".png\" in file and not os.path.exists(path + \"image files/\" + file):\n",
    "        shutil.move(path + file, path + \"image files/\" + file)\n",
    "    elif \".txt\" in file and not os.path.exists(path + \"text files/\" + file):\n",
    "        shutil.move(path + file, path + \"text files/\" + file)"
   ]
  },
  {
   "cell_type": "code",
   "execution_count": null,
   "id": "4fca2c4a-751f-4c0f-babb-5fb3532d48ef",
   "metadata": {},
   "outputs": [],
   "source": []
  },
  {
   "cell_type": "code",
   "execution_count": null,
   "id": "4e7b18d1-378d-4c22-adff-9f2b9355d5fc",
   "metadata": {},
   "outputs": [],
   "source": []
  },
  {
   "cell_type": "code",
   "execution_count": null,
   "id": "ac8df796-a391-4b48-8180-6bf22af2d748",
   "metadata": {},
   "outputs": [],
   "source": []
  },
  {
   "cell_type": "code",
   "execution_count": null,
   "id": "92fec791-51ba-4230-8908-ac79e1048e1f",
   "metadata": {},
   "outputs": [],
   "source": []
  },
  {
   "cell_type": "code",
   "execution_count": null,
   "id": "2c141213-90d6-4dd6-b404-73e88c9267a1",
   "metadata": {},
   "outputs": [],
   "source": []
  },
  {
   "cell_type": "code",
   "execution_count": null,
   "id": "51fe89f0-2d4d-46b7-a992-501ae18d18db",
   "metadata": {},
   "outputs": [],
   "source": []
  },
  {
   "cell_type": "code",
   "execution_count": null,
   "id": "56616fd7-d7f2-4320-a16f-3f38cf76bd40",
   "metadata": {},
   "outputs": [],
   "source": []
  },
  {
   "cell_type": "code",
   "execution_count": null,
   "id": "820521b5-69cc-401e-a49b-49269c2ce4ae",
   "metadata": {},
   "outputs": [],
   "source": []
  },
  {
   "cell_type": "code",
   "execution_count": null,
   "id": "2420f892-d81d-47d1-9491-92b728b3679c",
   "metadata": {},
   "outputs": [],
   "source": []
  },
  {
   "cell_type": "code",
   "execution_count": null,
   "id": "c34b142b-09b3-4633-804c-af0da890dc8d",
   "metadata": {},
   "outputs": [],
   "source": []
  }
 ],
 "metadata": {
  "kernelspec": {
   "display_name": "Python 3 (ipykernel)",
   "language": "python",
   "name": "python3"
  },
  "language_info": {
   "codemirror_mode": {
    "name": "ipython",
    "version": 3
   },
   "file_extension": ".py",
   "mimetype": "text/x-python",
   "name": "python",
   "nbconvert_exporter": "python",
   "pygments_lexer": "ipython3",
   "version": "3.11.7"
  }
 },
 "nbformat": 4,
 "nbformat_minor": 5
}
