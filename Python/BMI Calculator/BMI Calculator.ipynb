{
 "cells": [
  {
   "cell_type": "markdown",
   "id": "161a4ebf-b67e-4b7e-8e3e-7807892f8741",
   "metadata": {},
   "source": [
    "# BMI Calculator using Python"
   ]
  },
  {
   "cell_type": "code",
   "execution_count": null,
   "id": "0bd61082-165e-4b97-99b2-e2c6ce02f4c2",
   "metadata": {},
   "outputs": [],
   "source": []
  },
  {
   "cell_type": "code",
   "execution_count": 1,
   "id": "7c8aec34-4903-45d5-bb95-eb3c2883452d",
   "metadata": {},
   "outputs": [
    {
     "name": "stdin",
     "output_type": "stream",
     "text": [
      "Enter your name:  Kieshia\n",
      "Enter your weight in pounds:  170\n",
      "Enter your height in inches:  69\n"
     ]
    },
    {
     "name": "stdout",
     "output_type": "stream",
     "text": [
      "25.101869355177485\n",
      "Kieshia, you are overweight. You need to exercise more and stop sitting and writing so many python tutorials!!!\n"
     ]
    }
   ],
   "source": [
    "name = input(\"Enter your name: \")\n",
    "\n",
    "weight = int(input(\"Enter your weight in pounds: \"))\n",
    "\n",
    "height = int(input(\"Enter your height in inches: \"))\n",
    "\n",
    "BMI = (weight * 703) / (height * height)\n",
    "\n",
    "print(BMI)\n",
    "\n",
    "if BMI > 0:\n",
    "        if(BMI < 18.5):\n",
    "            print(name +\", you are underweight.\")\n",
    "        elif(BMI <+ 24.9):\n",
    "            print(name +\", you are normal weight.\")\n",
    "        elif(BMI < 29.9):\n",
    "            print(name +\", you are overweight. You need to exercise more and stop sitting and writing so many python tutorials!!!\")\n",
    "        elif(BMI < 34.9):\n",
    "            print(name +\", you are obese.\")\n",
    "        elif(BMI < 39.9):\n",
    "            print(name +\", you are severely obese.\")\n",
    "        else:\n",
    "            print(name +\", you are morbidly obese.\")\n",
    "else:\n",
    "    print(\"Enter valid input.\")"
   ]
  },
  {
   "cell_type": "code",
   "execution_count": null,
   "id": "3f7e00ae-de28-4c31-bbe9-0532af024b51",
   "metadata": {},
   "outputs": [],
   "source": []
  },
  {
   "cell_type": "code",
   "execution_count": null,
   "id": "ff23eb11-cac5-4123-a380-147dd0ce5189",
   "metadata": {},
   "outputs": [],
   "source": []
  },
  {
   "cell_type": "code",
   "execution_count": null,
   "id": "42c1f697-53b9-4b59-a726-6f927ed403e6",
   "metadata": {},
   "outputs": [],
   "source": []
  },
  {
   "cell_type": "code",
   "execution_count": null,
   "id": "f28299a1-6691-4a2a-929a-d643690b7889",
   "metadata": {},
   "outputs": [],
   "source": []
  },
  {
   "cell_type": "code",
   "execution_count": null,
   "id": "f4bb339c-07d2-4430-94fc-87d3b11cf830",
   "metadata": {},
   "outputs": [],
   "source": []
  },
  {
   "cell_type": "code",
   "execution_count": null,
   "id": "ec7ee3c3-32a2-4057-8e4b-6e3a33fabb8d",
   "metadata": {},
   "outputs": [],
   "source": []
  },
  {
   "cell_type": "code",
   "execution_count": null,
   "id": "8f031113-633b-4d55-a7ef-5ff54d42fd8f",
   "metadata": {},
   "outputs": [],
   "source": []
  },
  {
   "cell_type": "code",
   "execution_count": null,
   "id": "070e5ca9-354b-4072-a943-a1c2f2d46e7b",
   "metadata": {},
   "outputs": [],
   "source": []
  },
  {
   "cell_type": "code",
   "execution_count": null,
   "id": "2d433a48-dd53-43a6-abb1-c267303bd5e4",
   "metadata": {},
   "outputs": [],
   "source": []
  }
 ],
 "metadata": {
  "kernelspec": {
   "display_name": "Python 3 (ipykernel)",
   "language": "python",
   "name": "python3"
  },
  "language_info": {
   "codemirror_mode": {
    "name": "ipython",
    "version": 3
   },
   "file_extension": ".py",
   "mimetype": "text/x-python",
   "name": "python",
   "nbconvert_exporter": "python",
   "pygments_lexer": "ipython3",
   "version": "3.11.7"
  }
 },
 "nbformat": 4,
 "nbformat_minor": 5
}
